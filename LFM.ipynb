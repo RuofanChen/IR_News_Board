{
 "cells": [
  {
   "cell_type": "markdown",
   "id": "8c0068f6",
   "metadata": {},
   "source": [
    "## import MIND dataset\n",
    "https://msnews.github.io/\n",
    "#### download training set\n",
    "#### use first 100 user-click data set intial matrix\n",
    "## BEGIN HERE"
   ]
  },
  {
   "cell_type": "code",
   "execution_count": 1,
   "id": "cd6f6abc",
   "metadata": {},
   "outputs": [],
   "source": [
    "import gzip\n",
    "from collections import defaultdict\n",
    "import scipy\n",
    "import scipy.optimize\n",
    "import numpy as np\n",
    "import random\n",
    "import pandas as pd"
   ]
  },
  {
   "cell_type": "code",
   "execution_count": 2,
   "id": "d81926fd",
   "metadata": {},
   "outputs": [],
   "source": [
    "def data_preprocess(pretrain_data):\n",
    "    # load file\n",
    "    import csv\n",
    "    with open(pretrain_data) as file:\n",
    "        dataset = []\n",
    "        for line in file:\n",
    "            fields = line.strip().split('\\t')\n",
    "            header = ['impression_id','user_id','time','history','impressions']\n",
    "            d = dict(zip(header, fields))\n",
    "            dataset.append(d)\n",
    "\n",
    "    dataset_copy = dataset.copy()\n",
    "    # only need subset of data\n",
    "    dataset_sub = dataset_copy[:1000]\n",
    "\n",
    "    # modify value of key history and inpression to be list structure\n",
    "    for i in range(len(dataset_sub)):\n",
    "        dataset_sub[i]['history'] = dataset_sub[i]['history'].split()\n",
    "        dataset_sub[i]['impressions'] = dataset_sub[i]['impressions'].split()\n",
    "\n",
    "    for i in range(len(dataset_sub)):\n",
    "        dataset_sub[i]['history'] = [str(x) + '-1' for x in (dataset_sub[i]['history'])]\n",
    "\n",
    "    # combine history and impression to one key as rate\n",
    "    # then convert rate value from 'news-click' to {news:click}\n",
    "    for i in range(len(dataset_sub)):\n",
    "        dataset_sub[i]['click'] = dataset_sub[i]['history'] + dataset_sub[i]['impressions']\n",
    "        dataset_sub[i]['click'] = list(s.split('-',1) for s in dataset_sub[i]['click'])\n",
    "        dataset_sub[i].pop('history', None)\n",
    "        dataset_sub[i].pop('impressions', None)\n",
    "\n",
    "    output = []\n",
    "    for i in range(len(dataset_sub)):\n",
    "        for u_click in dataset_sub[i]['click']:\n",
    "            output.append({'user_id': dataset_sub[i]['user_id'], 'time': dataset_sub[i]['time'], 'news_id': u_click[0],'click':int(u_click[1])} )\n",
    "\n",
    "    # save data into dataframe named 'data'\n",
    "    data = pd.DataFrame([output[0]], columns=output[0].keys())\n",
    "    for i in range(1,len(output)):\n",
    "        data2 = pd.DataFrame([output[i]], columns=output[i].keys())\n",
    "        data = pd.concat([data,data2],ignore_index=True)\n",
    "\n",
    "\n",
    "    data['click'] = data['click'] + 1 # that makes access to existing click data more easily\n",
    "    # from now, 2 means user click the news, 1 means NOT click, 0 means user did not see the news\n",
    "\n",
    "    return data\n"
   ]
  },
  {
   "cell_type": "code",
   "execution_count": 3,
   "id": "2c11aca0",
   "metadata": {},
   "outputs": [],
   "source": [
    "data = data_preprocess(\"D:/backup/wpi/IR/final_project/MINDlarge_train/behaviors.tsv\")"
   ]
  },
  {
   "cell_type": "code",
   "execution_count": 4,
   "id": "8d224cc7",
   "metadata": {},
   "outputs": [
    {
     "data": {
      "text/html": [
       "<div>\n",
       "<style scoped>\n",
       "    .dataframe tbody tr th:only-of-type {\n",
       "        vertical-align: middle;\n",
       "    }\n",
       "\n",
       "    .dataframe tbody tr th {\n",
       "        vertical-align: top;\n",
       "    }\n",
       "\n",
       "    .dataframe thead th {\n",
       "        text-align: right;\n",
       "    }\n",
       "</style>\n",
       "<table border=\"1\" class=\"dataframe\">\n",
       "  <thead>\n",
       "    <tr style=\"text-align: right;\">\n",
       "      <th></th>\n",
       "      <th>user_id</th>\n",
       "      <th>time</th>\n",
       "      <th>news_id</th>\n",
       "      <th>click</th>\n",
       "    </tr>\n",
       "  </thead>\n",
       "  <tbody>\n",
       "    <tr>\n",
       "      <th>0</th>\n",
       "      <td>U87243</td>\n",
       "      <td>11/10/2019 11:30:54 AM</td>\n",
       "      <td>N8668</td>\n",
       "      <td>2</td>\n",
       "    </tr>\n",
       "    <tr>\n",
       "      <th>1</th>\n",
       "      <td>U87243</td>\n",
       "      <td>11/10/2019 11:30:54 AM</td>\n",
       "      <td>N39081</td>\n",
       "      <td>2</td>\n",
       "    </tr>\n",
       "    <tr>\n",
       "      <th>2</th>\n",
       "      <td>U87243</td>\n",
       "      <td>11/10/2019 11:30:54 AM</td>\n",
       "      <td>N65259</td>\n",
       "      <td>2</td>\n",
       "    </tr>\n",
       "    <tr>\n",
       "      <th>3</th>\n",
       "      <td>U87243</td>\n",
       "      <td>11/10/2019 11:30:54 AM</td>\n",
       "      <td>N79529</td>\n",
       "      <td>2</td>\n",
       "    </tr>\n",
       "    <tr>\n",
       "      <th>4</th>\n",
       "      <td>U87243</td>\n",
       "      <td>11/10/2019 11:30:54 AM</td>\n",
       "      <td>N73408</td>\n",
       "      <td>2</td>\n",
       "    </tr>\n",
       "    <tr>\n",
       "      <th>...</th>\n",
       "      <td>...</td>\n",
       "      <td>...</td>\n",
       "      <td>...</td>\n",
       "      <td>...</td>\n",
       "    </tr>\n",
       "    <tr>\n",
       "      <th>72971</th>\n",
       "      <td>U150193</td>\n",
       "      <td>11/11/2019 2:43:58 PM</td>\n",
       "      <td>N3075</td>\n",
       "      <td>1</td>\n",
       "    </tr>\n",
       "    <tr>\n",
       "      <th>72972</th>\n",
       "      <td>U150193</td>\n",
       "      <td>11/11/2019 2:43:58 PM</td>\n",
       "      <td>N15847</td>\n",
       "      <td>1</td>\n",
       "    </tr>\n",
       "    <tr>\n",
       "      <th>72973</th>\n",
       "      <td>U150193</td>\n",
       "      <td>11/11/2019 2:43:58 PM</td>\n",
       "      <td>N38304</td>\n",
       "      <td>1</td>\n",
       "    </tr>\n",
       "    <tr>\n",
       "      <th>72974</th>\n",
       "      <td>U150193</td>\n",
       "      <td>11/11/2019 2:43:58 PM</td>\n",
       "      <td>N62017</td>\n",
       "      <td>1</td>\n",
       "    </tr>\n",
       "    <tr>\n",
       "      <th>72975</th>\n",
       "      <td>U150193</td>\n",
       "      <td>11/11/2019 2:43:58 PM</td>\n",
       "      <td>N37106</td>\n",
       "      <td>1</td>\n",
       "    </tr>\n",
       "  </tbody>\n",
       "</table>\n",
       "<p>72976 rows × 4 columns</p>\n",
       "</div>"
      ],
      "text/plain": [
       "       user_id                    time news_id  click\n",
       "0       U87243  11/10/2019 11:30:54 AM   N8668      2\n",
       "1       U87243  11/10/2019 11:30:54 AM  N39081      2\n",
       "2       U87243  11/10/2019 11:30:54 AM  N65259      2\n",
       "3       U87243  11/10/2019 11:30:54 AM  N79529      2\n",
       "4       U87243  11/10/2019 11:30:54 AM  N73408      2\n",
       "...        ...                     ...     ...    ...\n",
       "72971  U150193   11/11/2019 2:43:58 PM   N3075      1\n",
       "72972  U150193   11/11/2019 2:43:58 PM  N15847      1\n",
       "72973  U150193   11/11/2019 2:43:58 PM  N38304      1\n",
       "72974  U150193   11/11/2019 2:43:58 PM  N62017      1\n",
       "72975  U150193   11/11/2019 2:43:58 PM  N37106      1\n",
       "\n",
       "[72976 rows x 4 columns]"
      ]
     },
     "execution_count": 4,
     "metadata": {},
     "output_type": "execute_result"
    }
   ],
   "source": [
    "data"
   ]
  },
  {
   "cell_type": "code",
   "execution_count": 13,
   "id": "ba2cf2c0",
   "metadata": {},
   "outputs": [],
   "source": [
    "# some news text is empty, delete these news not in base news\n",
    "import json\n",
    "json_file = open('word2vec_template/base_data/base_news_title.json', 'r', encoding='utf-8')\n",
    "aval_news = json.load(json_file)\n",
    "aval_news_id = list(aval_news.keys())\n",
    "data = data[data['news_id'].isin(aval_news_id)]"
   ]
  },
  {
   "cell_type": "markdown",
   "id": "f10acdaf",
   "metadata": {},
   "source": [
    "create utility matrix"
   ]
  },
  {
   "cell_type": "code",
   "execution_count": 15,
   "id": "734a7645",
   "metadata": {},
   "outputs": [],
   "source": [
    "def create_utility_matrix(df):\n",
    "    user_list = df['user_id'].unique()\n",
    "    news_list = df['news_id'].unique()\n",
    "    \n",
    "    utility_matrix = np.empty(shape = (len(user_list),len(news_list))) # create an empty 2d np array\n",
    "    utility_matrix[:] = 0\n",
    "    \n",
    "    for i in range(len(df.index)):\n",
    "        utility_matrix[np.where(user_list==df.iloc[i]['user_id'])[0].item()][np.where(news_list==df.iloc[i]['news_id'])[0].item()] = df.iloc[i]['click']\n",
    "    \n",
    "    return utility_matrix,user_list,news_list"
   ]
  },
  {
   "cell_type": "code",
   "execution_count": 16,
   "id": "fc54f265",
   "metadata": {},
   "outputs": [],
   "source": [
    "utilMat, users_index, items_index = create_utility_matrix(data) # utilMat stores the utility matrix"
   ]
  },
  {
   "cell_type": "code",
   "execution_count": 17,
   "id": "f366d3c5",
   "metadata": {},
   "outputs": [
    {
     "data": {
      "text/plain": [
       "array([[2., 2., 2., ..., 0., 0., 0.],\n",
       "       [0., 0., 0., ..., 0., 0., 0.],\n",
       "       [0., 0., 0., ..., 0., 0., 0.],\n",
       "       ...,\n",
       "       [0., 0., 0., ..., 0., 0., 0.],\n",
       "       [0., 2., 0., ..., 1., 1., 0.],\n",
       "       [0., 0., 0., ..., 0., 0., 1.]])"
      ]
     },
     "execution_count": 17,
     "metadata": {},
     "output_type": "execute_result"
    }
   ],
   "source": [
    "utilMat"
   ]
  },
  {
   "cell_type": "code",
   "execution_count": 18,
   "id": "ba840ef8",
   "metadata": {},
   "outputs": [
    {
     "data": {
      "text/plain": [
       "(1000, 11917)"
      ]
     },
     "execution_count": 18,
     "metadata": {},
     "output_type": "execute_result"
    }
   ],
   "source": [
    "utilMat.shape"
   ]
  },
  {
   "cell_type": "markdown",
   "id": "bb401128",
   "metadata": {},
   "source": [
    "train-test split"
   ]
  },
  {
   "cell_type": "code",
   "execution_count": 19,
   "id": "b306a37e",
   "metadata": {},
   "outputs": [],
   "source": [
    "def train_test_split(ut_matrix): # used for train hyperparameter k\n",
    "    \n",
    "    validation = np.zeros(ut_matrix.shape)\n",
    "    train = ut_matrix.copy() #don't do train=ratings, other wise, ratings becomes empty\n",
    "    \n",
    "    for user in np.arange(ut_matrix.shape[0]):\n",
    "        if len(ut_matrix[user,:].nonzero()[0])>=35:# 35 seems to be best, it depends on sparsity of your user-item matrix\n",
    "            val_click = np.random.choice(ut_matrix[user, :].nonzero()[0], \n",
    "                                        size=15, #tweak this, 15 seems to be optimal\n",
    "                                        replace=False)\n",
    "            train[user, val_click] = 0\n",
    "            validation[user, val_click] = ut_matrix[user, val_click]\n",
    "    print(validation.shape)\n",
    "    return train, validation"
   ]
  },
  {
   "cell_type": "code",
   "execution_count": 20,
   "id": "d0845529",
   "metadata": {},
   "outputs": [
    {
     "name": "stdout",
     "output_type": "stream",
     "text": [
      "(1000, 11917)\n"
     ]
    }
   ],
   "source": [
    "train, val = train_test_split(utilMat) "
   ]
  },
  {
   "cell_type": "code",
   "execution_count": 21,
   "id": "0e409375",
   "metadata": {},
   "outputs": [
    {
     "data": {
      "text/plain": [
       "array([[0., 2., 0., ..., 0., 0., 0.],\n",
       "       [0., 0., 0., ..., 0., 0., 0.],\n",
       "       [0., 0., 0., ..., 0., 0., 0.],\n",
       "       ...,\n",
       "       [0., 0., 0., ..., 0., 0., 0.],\n",
       "       [0., 0., 0., ..., 1., 1., 0.],\n",
       "       [0., 0., 0., ..., 0., 0., 1.]])"
      ]
     },
     "execution_count": 21,
     "metadata": {},
     "output_type": "execute_result"
    }
   ],
   "source": [
    "train"
   ]
  },
  {
   "cell_type": "markdown",
   "id": "7dd8943a",
   "metadata": {},
   "source": [
    "SVD begin: used for matrix factorization initial value"
   ]
  },
  {
   "cell_type": "code",
   "execution_count": 22,
   "id": "0104221b",
   "metadata": {},
   "outputs": [],
   "source": [
    "from sklearn.metrics import mean_squared_error\n",
    "def rmse(prediction, ground_truth):\n",
    "    prediction = prediction[ground_truth.nonzero()].flatten() \n",
    "    ground_truth = ground_truth[ground_truth.nonzero()].flatten()\n",
    "    return np.sqrt(mean_squared_error(prediction, ground_truth))\n"
   ]
  },
  {
   "cell_type": "code",
   "execution_count": 23,
   "id": "4636d8ae",
   "metadata": {},
   "outputs": [],
   "source": [
    "import scipy.sparse as sp\n",
    "from scipy.sparse.linalg import svds\n",
    "\n",
    "def svd(train_data,val_data,k,util_mat):\n",
    "    rmse_list = []\n",
    "    #get SVD components from train matrix. Choose k.\n",
    "    for ki in k:\n",
    "        np.random.seed(0)\n",
    "        v0 = np.random.rand(min(train_data.shape))\n",
    "        u, s, vt = svds(train_data, ki,v0=v0) # tweak k, dimensionality for rank matrix\n",
    "        s_diag_matrix=np.diag(s)\n",
    "        X_pred = np.dot(np.dot(u, s_diag_matrix), vt)\n",
    "        rmse_list.append(rmse(X_pred, val_data))\n",
    "    index_min = min(range(len(rmse_list)), key=rmse_list.__getitem__)\n",
    "    k_select = k[index_min]\n",
    "\n",
    "    u, s, vt = svds(util_mat, k_select) # u is the user matrix, s diagonal matrix, vt is news matrix\n",
    "    s_diag_matrix=np.diag(s) \n",
    "    X_pred = np.dot(np.dot(u, s_diag_matrix), vt)\n",
    "\n",
    "    U = np.dot(u,s_diag_matrix**0.5) # U=u * s**(1/2)\n",
    "    VT = np.dot(s_diag_matrix**0.5,vt) # VT=s**(1/2) * vt\n",
    "    \n",
    "    return k_select,U,VT"
   ]
  },
  {
   "cell_type": "code",
   "execution_count": 24,
   "id": "d19a7fd0",
   "metadata": {},
   "outputs": [],
   "source": [
    "k_select,U,VT = svd(train,val,k = [20,25,30,35,40,45,50],util_mat = utilMat)"
   ]
  },
  {
   "cell_type": "markdown",
   "id": "72dc6701",
   "metadata": {},
   "source": [
    "SGD begin"
   ]
  },
  {
   "cell_type": "code",
   "execution_count": 25,
   "id": "1937073b",
   "metadata": {},
   "outputs": [],
   "source": [
    "from scipy.sparse import coo_matrix\n",
    "R = coo_matrix(utilMat)  # save as sparsity matrix\n",
    "m,n = R.shape"
   ]
  },
  {
   "cell_type": "code",
   "execution_count": 26,
   "id": "54b33eae",
   "metadata": {},
   "outputs": [],
   "source": [
    "from numpy.linalg import norm\n",
    "\n",
    "def error(R,P,Q,lamda=0.02):\n",
    "    clicks = R.data\n",
    "    rows = R.row\n",
    "    cols = R.col\n",
    "    e = 0 \n",
    "    for ui in range(len(clicks)):\n",
    "        rui=clicks[ui]\n",
    "        u = rows[ui]\n",
    "        i = cols[ui]\n",
    "        if rui>0:\n",
    "            e= e + pow(rui-np.dot(P[u,:],Q[:,i]),2)+\\\n",
    "                lamda*(pow(norm(P[u,:]),2)+pow(norm(Q[:,i]),2))\n",
    "    return e"
   ]
  },
  {
   "cell_type": "code",
   "execution_count": 27,
   "id": "8b55a05a",
   "metadata": {},
   "outputs": [
    {
     "data": {
      "text/plain": [
       "110658.54471523548"
      ]
     },
     "execution_count": 27,
     "metadata": {},
     "output_type": "execute_result"
    }
   ],
   "source": [
    "error(R,U,VT) # use SVD result as initial value"
   ]
  },
  {
   "cell_type": "code",
   "execution_count": 28,
   "id": "7854196c",
   "metadata": {},
   "outputs": [
    {
     "data": {
      "text/plain": [
       "1.2714132050016507"
      ]
     },
     "execution_count": 28,
     "metadata": {},
     "output_type": "execute_result"
    }
   ],
   "source": [
    "rmse = np.sqrt(error(R,U,VT)/len(R.data))\n",
    "rmse"
   ]
  },
  {
   "cell_type": "code",
   "execution_count": 29,
   "id": "018592ab",
   "metadata": {},
   "outputs": [],
   "source": [
    "def SGD(R, K, P,Q,lamda,steps, gamma):\n",
    "    \n",
    "    M,N = R.shape\n",
    "    \n",
    "    rmse = np.sqrt(error(R,P,Q,lamda)/len(R.data))\n",
    "    print(\"Initial RMSE: \"+str(rmse))\n",
    "    \n",
    "    for step in range(steps):\n",
    "        for ui in range(len(R.data)):\n",
    "            rui=R.data[ui]\n",
    "            u = R.row[ui]\n",
    "            i = R.col[ui]\n",
    "            if rui>0:\n",
    "                eui=rui-np.dot(P[u,:],Q[:,i])\n",
    "                P[u,:]=P[u,:]+gamma*2*(eui*Q[:,i]-lamda*P[u,:])\n",
    "                Q[:,i]=Q[:,i]+gamma*2*(eui*P[u,:]-lamda*Q[:,i])\n",
    "        rmse = np.sqrt(error(R,P,Q,lamda)/len(R.data))\n",
    "        if rmse<0.5:\n",
    "            break\n",
    "    print(\"Final RMSE: \"+str(rmse))\n",
    "    return P,Q"
   ]
  },
  {
   "cell_type": "code",
   "execution_count": 30,
   "id": "9b1566a9",
   "metadata": {},
   "outputs": [
    {
     "name": "stdout",
     "output_type": "stream",
     "text": [
      "Initial RMSE: 1.2506911604018287\n",
      "Final RMSE: 0.5694199064871641\n"
     ]
    }
   ],
   "source": [
    "# gamma and lamda values can be modifed in order to optimize the model.\n",
    "#-----------------------------------------------------------------------------------------------------\n",
    "P,Q=SGD(R,K=k_select,P=U,Q=VT,gamma=0.0005,lamda=0.01, steps=100)"
   ]
  },
  {
   "cell_type": "code",
   "execution_count": 31,
   "id": "908888b4",
   "metadata": {},
   "outputs": [
    {
     "data": {
      "text/plain": [
       "array([[-0.01092597, -0.14966249, -0.16967592, ..., -0.06001381,\n",
       "        -0.09733089,  0.96176227],\n",
       "       [ 0.05778768, -0.04900208,  0.3718125 , ..., -0.3111133 ,\n",
       "        -0.18647092,  1.14312474],\n",
       "       [-0.29143111,  0.0987592 , -0.29808783, ..., -0.16915252,\n",
       "         0.11847224,  1.09340551],\n",
       "       ...,\n",
       "       [ 0.02457847,  0.05191967, -0.12489554, ...,  0.08151737,\n",
       "         0.17614906,  0.43227396],\n",
       "       [ 0.00759658,  0.01266309, -0.12625196, ..., -0.13819188,\n",
       "        -0.01007413,  0.75739786],\n",
       "       [-0.145075  , -0.25213425,  0.00821404, ..., -0.50662226,\n",
       "        -0.05873093,  0.45965129]])"
      ]
     },
     "execution_count": 31,
     "metadata": {},
     "output_type": "execute_result"
    }
   ],
   "source": [
    "P # user matrix"
   ]
  },
  {
   "cell_type": "code",
   "execution_count": 32,
   "id": "82d9c46c",
   "metadata": {},
   "outputs": [
    {
     "data": {
      "text/plain": [
       "array([[ 0.00520234,  0.00321418, -0.10961475, ...,  0.00408928,\n",
       "         0.00408949, -0.01309988],\n",
       "       [-0.0147974 , -0.02304979, -0.169636  , ...,  0.00387454,\n",
       "         0.00387469, -0.02517724],\n",
       "       [-0.08680287,  0.00205933,  0.02048757, ..., -0.01310765,\n",
       "        -0.01310804,  0.0036791 ],\n",
       "       ...,\n",
       "       [-0.09750177, -0.03794302, -0.03134196, ..., -0.00646889,\n",
       "        -0.00646891, -0.0406733 ],\n",
       "       [ 0.03268593, -0.07339252, -0.02741353, ..., -0.00157376,\n",
       "        -0.00157382, -0.00684737],\n",
       "       [ 0.65654937,  0.44756753,  0.96895567, ...,  0.03736772,\n",
       "         0.03736791,  0.03076676]])"
      ]
     },
     "execution_count": 32,
     "metadata": {},
     "output_type": "execute_result"
    }
   ],
   "source": [
    "Q # item mateix"
   ]
  },
  {
   "cell_type": "code",
   "execution_count": 33,
   "id": "7d820319",
   "metadata": {},
   "outputs": [],
   "source": [
    "q_matrix_pd = pd.DataFrame(Q, columns = items_index)\n",
    "q_matrix_pd.to_csv('word2vec_template/P_Q_matrix/Item_matrix.csv', index=False)"
   ]
  },
  {
   "cell_type": "code",
   "execution_count": 34,
   "id": "43b0c5ad",
   "metadata": {},
   "outputs": [],
   "source": [
    "p_matrix_pd = pd.DataFrame(P, index=users_index)\n",
    "p_matrix_pd.to_csv('word2vec_template/P_Q_matrix/User_matrix.csv')"
   ]
  },
  {
   "cell_type": "code",
   "execution_count": null,
   "id": "6c160ae8",
   "metadata": {},
   "outputs": [],
   "source": []
  }
 ],
 "metadata": {
  "kernelspec": {
   "display_name": "Python 3 (ipykernel)",
   "language": "python",
   "name": "python3"
  },
  "language_info": {
   "codemirror_mode": {
    "name": "ipython",
    "version": 3
   },
   "file_extension": ".py",
   "mimetype": "text/x-python",
   "name": "python",
   "nbconvert_exporter": "python",
   "pygments_lexer": "ipython3",
   "version": "3.9.10"
  }
 },
 "nbformat": 4,
 "nbformat_minor": 5
}
