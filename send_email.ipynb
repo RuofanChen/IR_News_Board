{
 "cells": [
  {
   "cell_type": "markdown",
   "id": "178906c3",
   "metadata": {},
   "source": [
    "sign up link: http://eepurl.com/hYLLdz  \n",
    "\n",
    "unsubscribe link: https://gmail.us14.list-manage.com/unsubscribe?u=bb2821903e5482647405b90cf&id=269b9db1e8  \n",
    "\n",
    "survey feedback link: https://us14.list-manage.com/survey?u=bb2821903e5482647405b90cf&id=fa1c743c59  \n"
   ]
  },
  {
   "cell_type": "markdown",
   "id": "b6a08a5c",
   "metadata": {},
   "source": [
    "Above three links are supported by Mailchimp. To run the recommendation system, a Mailchimp account is needed. https://mailchimp.com/"
   ]
  },
  {
   "cell_type": "markdown",
   "id": "44819f7a",
   "metadata": {},
   "source": [
    "To get the all signed up user: got to mailchimp  \n",
    "\n",
    "Audience - All contacts - Export Audience  \n",
    "Audience - Surveys - next to view report - Export"
   ]
  },
  {
   "cell_type": "code",
   "execution_count": 31,
   "id": "b21e23ed",
   "metadata": {},
   "outputs": [],
   "source": [
    "# def get_user_email_list(export_user_file):\n",
    "#     import pandas as pd\n",
    "#     user_account = pd.read_csv(export_user_file)\n",
    "#     user_email = list(user_account['Email Address'])\n",
    "#     return user_email"
   ]
  },
  {
   "cell_type": "code",
   "execution_count": 34,
   "id": "565605b5",
   "metadata": {},
   "outputs": [],
   "source": [
    "# active_user_email = get_user_email_list('members_export_ad8a9043f9/subscribed_members_export_ad8a9043f9.csv')\n",
    "# unsubscribe_user = get_user_email_list('members_export_ad8a9043f9/unsubscribed_members_export_ad8a9043f9.csv')"
   ]
  },
  {
   "cell_type": "code",
   "execution_count": 7,
   "id": "6fc27a8f",
   "metadata": {},
   "outputs": [
    {
     "name": "stdout",
     "output_type": "stream",
     "text": [
      "Index(['Date', 'Email', 'Question 1: your email address:',\n",
      "       'Question 2: For the ten news received today, please tick all the news that you have clicked on or are interested in:'],\n",
      "      dtype='object')\n"
     ]
    }
   ],
   "source": [
    "# survey feedback - click\n",
    "feedback = pd.read_csv('../survey_export_Apr_9_2022.csv')\n",
    "print(feedback.columns)"
   ]
  },
  {
   "cell_type": "code",
   "execution_count": 8,
   "id": "1f1083b1",
   "metadata": {},
   "outputs": [
    {
     "data": {
      "text/html": [
       "<div>\n",
       "<style scoped>\n",
       "    .dataframe tbody tr th:only-of-type {\n",
       "        vertical-align: middle;\n",
       "    }\n",
       "\n",
       "    .dataframe tbody tr th {\n",
       "        vertical-align: top;\n",
       "    }\n",
       "\n",
       "    .dataframe thead th {\n",
       "        text-align: right;\n",
       "    }\n",
       "</style>\n",
       "<table border=\"1\" class=\"dataframe\">\n",
       "  <thead>\n",
       "    <tr style=\"text-align: right;\">\n",
       "      <th></th>\n",
       "      <th>Date</th>\n",
       "      <th>Email</th>\n",
       "      <th>Question 1: your email address:</th>\n",
       "      <th>Question 2: For the ten news received today, please tick all the news that you have clicked on or are interested in:</th>\n",
       "    </tr>\n",
       "  </thead>\n",
       "  <tbody>\n",
       "    <tr>\n",
       "      <th>0</th>\n",
       "      <td>2022-04-09 15:57:55</td>\n",
       "      <td>NaN</td>\n",
       "      <td>ruofan.chen19@gmail.com</td>\n",
       "      <td>news 1,news 2,news 3,news 5,news 6</td>\n",
       "    </tr>\n",
       "    <tr>\n",
       "      <th>1</th>\n",
       "      <td>2022-04-09 16:02:52</td>\n",
       "      <td>NaN</td>\n",
       "      <td>jun.jin.crf@gmail.com</td>\n",
       "      <td>news 1,news 2,news 5,news 7</td>\n",
       "    </tr>\n",
       "  </tbody>\n",
       "</table>\n",
       "</div>"
      ],
      "text/plain": [
       "                  Date  Email Question 1: your email address:  \\\n",
       "0  2022-04-09 15:57:55    NaN         ruofan.chen19@gmail.com   \n",
       "1  2022-04-09 16:02:52    NaN           jun.jin.crf@gmail.com   \n",
       "\n",
       "  Question 2: For the ten news received today, please tick all the news that you have clicked on or are interested in:  \n",
       "0                 news 1,news 2,news 3,news 5,news 6                                                                    \n",
       "1                        news 1,news 2,news 5,news 7                                                                    "
      ]
     },
     "execution_count": 8,
     "metadata": {},
     "output_type": "execute_result"
    }
   ],
   "source": [
    "feedback"
   ]
  },
  {
   "cell_type": "code",
   "execution_count": 9,
   "id": "fa3aa973",
   "metadata": {},
   "outputs": [],
   "source": [
    "click = feedback.to_dict('index')"
   ]
  },
  {
   "cell_type": "code",
   "execution_count": 10,
   "id": "e986953b",
   "metadata": {},
   "outputs": [
    {
     "data": {
      "text/plain": [
       "{0: {'Date': '2022-04-09 15:57:55',\n",
       "  'Email': nan,\n",
       "  'Question 1: your email address:': 'ruofan.chen19@gmail.com',\n",
       "  'Question 2: For the ten news received today, please tick all the news that you have clicked on or are interested in:': 'news 1,news 2,news 3,news 5,news 6'},\n",
       " 1: {'Date': '2022-04-09 16:02:52',\n",
       "  'Email': nan,\n",
       "  'Question 1: your email address:': 'jun.jin.crf@gmail.com',\n",
       "  'Question 2: For the ten news received today, please tick all the news that you have clicked on or are interested in:': 'news 1,news 2,news 5,news 7'}}"
      ]
     },
     "execution_count": 10,
     "metadata": {},
     "output_type": "execute_result"
    }
   ],
   "source": [
    "click"
   ]
  },
  {
   "cell_type": "code",
   "execution_count": 11,
   "id": "16754b12",
   "metadata": {},
   "outputs": [],
   "source": [
    "refresh_click = {}\n",
    "for key in click:\n",
    "    refresh_click[click[key]['Question 1: your email address:']] = click[key]['Question 2: For the ten news received today, please tick all the news that you have clicked on or are interested in:']"
   ]
  },
  {
   "cell_type": "code",
   "execution_count": 12,
   "id": "48cfefd8",
   "metadata": {},
   "outputs": [],
   "source": [
    "for key in refresh_click:\n",
    "    refresh_click[key] = refresh_click[key].split(',')"
   ]
  },
  {
   "cell_type": "code",
   "execution_count": 13,
   "id": "debcb442",
   "metadata": {},
   "outputs": [
    {
     "data": {
      "text/plain": [
       "{'ruofan.chen19@gmail.com': ['news 1', 'news 2', 'news 3', 'news 5', 'news 6'],\n",
       " 'jun.jin.crf@gmail.com': ['news 1', 'news 2', 'news 5', 'news 7']}"
      ]
     },
     "execution_count": 13,
     "metadata": {},
     "output_type": "execute_result"
    }
   ],
   "source": [
    "refresh_click"
   ]
  },
  {
   "cell_type": "code",
   "execution_count": 14,
   "id": "c0f0d41e",
   "metadata": {},
   "outputs": [],
   "source": [
    "for key in refresh_click:\n",
    "    refresh_click[key] = [int(i.split(' ')[1])-1 for i in refresh_click[key]]"
   ]
  },
  {
   "cell_type": "code",
   "execution_count": 15,
   "id": "999c2c34",
   "metadata": {},
   "outputs": [
    {
     "data": {
      "text/plain": [
       "{'ruofan.chen19@gmail.com': [0, 1, 2, 4, 5],\n",
       " 'jun.jin.crf@gmail.com': [0, 1, 4, 6]}"
      ]
     },
     "execution_count": 15,
     "metadata": {},
     "output_type": "execute_result"
    }
   ],
   "source": [
    "refresh_click # the index that the user clicks, update the untility matrix with value 1"
   ]
  },
  {
   "cell_type": "markdown",
   "id": "e929ff3b",
   "metadata": {},
   "source": [
    "## send email"
   ]
  },
  {
   "cell_type": "code",
   "execution_count": 1,
   "id": "925541a6",
   "metadata": {},
   "outputs": [],
   "source": [
    "import json\n",
    " \n",
    "# Opening JSON file\n",
    "f = open('../2022-2-news.json')\n",
    " \n",
    "# returns JSON object as\n",
    "# a dictionary\n",
    "data = json.load(f)\n",
    " \n",
    "# Iterating through the json\n",
    "# list"
   ]
  },
  {
   "cell_type": "code",
   "execution_count": 2,
   "id": "58b61035",
   "metadata": {},
   "outputs": [],
   "source": [
    "# since id is unique for each news, so let id be the key\n",
    "dataset = {}\n",
    "for i in range(len(data['data'])):\n",
    "    new_key = data['data'][i]['id']\n",
    "    dataset[new_key]=data['data'][i]"
   ]
  },
  {
   "cell_type": "code",
   "execution_count": 3,
   "id": "f9a4e029",
   "metadata": {},
   "outputs": [],
   "source": [
    "for key in dataset:\n",
    "    dataset[key]['url'] = 'https://newsboard-r.s3.amazonaws.com/news_gen/' + key +'.html'"
   ]
  },
  {
   "cell_type": "code",
   "execution_count": 5,
   "id": "d46b30ef",
   "metadata": {},
   "outputs": [],
   "source": [
    "import pandas as pd"
   ]
  },
  {
   "cell_type": "code",
   "execution_count": 9,
   "id": "b9edaf5d",
   "metadata": {},
   "outputs": [],
   "source": [
    "import json\n",
    "f = open('user_news.json')\n",
    "user_news = json.load(f)\n",
    "f.close()"
   ]
  },
  {
   "cell_type": "code",
   "execution_count": 28,
   "id": "5e84293b",
   "metadata": {},
   "outputs": [],
   "source": [
    "email = list(user_news.keys())"
   ]
  },
  {
   "cell_type": "code",
   "execution_count": 30,
   "id": "49bc023c",
   "metadata": {},
   "outputs": [
    {
     "name": "stderr",
     "output_type": "stream",
     "text": [
      "C:\\Users\\ruofa\\AppData\\Local\\Temp\\ipykernel_8268\\195272785.py:3: FutureWarning: The frame.append method is deprecated and will be removed from pandas in a future version. Use pandas.concat instead.\n",
      "  df = df.append({'email' : email[i],\n",
      "C:\\Users\\ruofa\\AppData\\Local\\Temp\\ipykernel_8268\\195272785.py:3: FutureWarning: The frame.append method is deprecated and will be removed from pandas in a future version. Use pandas.concat instead.\n",
      "  df = df.append({'email' : email[i],\n",
      "C:\\Users\\ruofa\\AppData\\Local\\Temp\\ipykernel_8268\\195272785.py:3: FutureWarning: The frame.append method is deprecated and will be removed from pandas in a future version. Use pandas.concat instead.\n",
      "  df = df.append({'email' : email[i],\n"
     ]
    }
   ],
   "source": [
    "df = pd.DataFrame()\n",
    "for i in range(len(email)):\n",
    "    df = df.append({'email' : email[i], \n",
    "    'news1 title' : dataset[user_news[email[i]][0]]['title'],'news1 abstract':dataset[user_news[email[i]][0]]['abstract'],'news1 url':dataset[user_news[email[i]][0]]['url'],\n",
    "    'news2 title' : dataset[user_news[email[i]][1]]['title'],'news2 abstract':dataset[user_news[email[i]][1]]['abstract'],'news2 url':dataset[user_news[email[i]][1]]['url'],\n",
    "    'news3 title' : dataset[user_news[email[i]][2]]['title'],'news3 abstract':dataset[user_news[email[i]][2]]['abstract'],'news3 url':dataset[user_news[email[i]][2]]['url'],\n",
    "    'news4 title' : dataset[user_news[email[i]][3]]['title'],'news4 abstract':dataset[user_news[email[i]][3]]['abstract'],'news4 url':dataset[user_news[email[i]][3]]['url'],\n",
    "    'news5 title' : dataset[user_news[email[i]][4]]['title'],'news5 abstract':dataset[user_news[email[i]][4]]['abstract'],'news5 url':dataset[user_news[email[i]][4]]['url'],\n",
    "    'news6 title' : dataset[user_news[email[i]][5]]['title'],'news6 abstract':dataset[user_news[email[i]][5]]['abstract'],'news6 url':dataset[user_news[email[i]][5]]['url'],\n",
    "    'news7 title' : dataset[user_news[email[i]][6]]['title'],'news7 abstract':dataset[user_news[email[i]][6]]['abstract'],'news7 url':dataset[user_news[email[i]][6]]['url'],\n",
    "    'news8 title' : dataset[user_news[email[i]][7]]['title'],'news8 abstract':dataset[user_news[email[i]][7]]['abstract'],'news8 url':dataset[user_news[email[i]][7]]['url'],\n",
    "    'news9 title' : dataset[user_news[email[i]][8]]['title'],'news9 abstract':dataset[user_news[email[i]][8]]['abstract'],'news9 url':dataset[user_news[email[i]][8]]['url'],\n",
    "    'news10 title' : dataset[user_news[email[i]][9]]['title'],'news10 abstract':dataset[user_news[email[i]][9]]['abstract'],'news10 url':dataset[user_news[email[i]][9]]['url']\n",
    "     },ignore_index = True)"
   ]
  },
  {
   "cell_type": "code",
   "execution_count": 31,
   "id": "69d1d9e4",
   "metadata": {},
   "outputs": [
    {
     "data": {
      "text/html": [
       "<div>\n",
       "<style scoped>\n",
       "    .dataframe tbody tr th:only-of-type {\n",
       "        vertical-align: middle;\n",
       "    }\n",
       "\n",
       "    .dataframe tbody tr th {\n",
       "        vertical-align: top;\n",
       "    }\n",
       "\n",
       "    .dataframe thead th {\n",
       "        text-align: right;\n",
       "    }\n",
       "</style>\n",
       "<table border=\"1\" class=\"dataframe\">\n",
       "  <thead>\n",
       "    <tr style=\"text-align: right;\">\n",
       "      <th></th>\n",
       "      <th>email</th>\n",
       "      <th>news1 title</th>\n",
       "      <th>news1 abstract</th>\n",
       "      <th>news1 url</th>\n",
       "      <th>news2 title</th>\n",
       "      <th>news2 abstract</th>\n",
       "      <th>news2 url</th>\n",
       "      <th>news3 title</th>\n",
       "      <th>news3 abstract</th>\n",
       "      <th>news3 url</th>\n",
       "      <th>...</th>\n",
       "      <th>news7 url</th>\n",
       "      <th>news8 title</th>\n",
       "      <th>news8 abstract</th>\n",
       "      <th>news8 url</th>\n",
       "      <th>news9 title</th>\n",
       "      <th>news9 abstract</th>\n",
       "      <th>news9 url</th>\n",
       "      <th>news10 title</th>\n",
       "      <th>news10 abstract</th>\n",
       "      <th>news10 url</th>\n",
       "    </tr>\n",
       "  </thead>\n",
       "  <tbody>\n",
       "    <tr>\n",
       "      <th>0</th>\n",
       "      <td>wsc961201@gmail.com</td>\n",
       "      <td>How Ukrainians View This Perilous Moment</td>\n",
       "      <td>A Russian invasion of the former Soviet state ...</td>\n",
       "      <td>https://newsboard-r.s3.amazonaws.com/news_gen/...</td>\n",
       "      <td>Was It Me? Or My Teeth?</td>\n",
       "      <td>In America, a smile is like a résumé. I was af...</td>\n",
       "      <td>https://newsboard-r.s3.amazonaws.com/news_gen/...</td>\n",
       "      <td>Change of Heart</td>\n",
       "      <td>David Steinberg’s Sunday puzzle hits us in a s...</td>\n",
       "      <td>https://newsboard-r.s3.amazonaws.com/news_gen/...</td>\n",
       "      <td>...</td>\n",
       "      <td>https://newsboard-r.s3.amazonaws.com/news_gen/...</td>\n",
       "      <td>My Family Never Asked to Be ‘Liberated’</td>\n",
       "      <td>But war came to them.</td>\n",
       "      <td>https://newsboard-r.s3.amazonaws.com/news_gen/...</td>\n",
       "      <td>It’s Stew Time (Unless It’s Not)</td>\n",
       "      <td>A new recipe for eintopf from Yewande Komolafe...</td>\n",
       "      <td>https://newsboard-r.s3.amazonaws.com/news_gen/...</td>\n",
       "      <td>Everything Looks Different Now</td>\n",
       "      <td>Crisis and fashion collide at Moschino and Prada.</td>\n",
       "      <td>https://newsboard-r.s3.amazonaws.com/news_gen/...</td>\n",
       "    </tr>\n",
       "    <tr>\n",
       "      <th>1</th>\n",
       "      <td>jun.jin.crf@gmail.com</td>\n",
       "      <td>How Ukrainians View This Perilous Moment</td>\n",
       "      <td>A Russian invasion of the former Soviet state ...</td>\n",
       "      <td>https://newsboard-r.s3.amazonaws.com/news_gen/...</td>\n",
       "      <td>Was It Me? Or My Teeth?</td>\n",
       "      <td>In America, a smile is like a résumé. I was af...</td>\n",
       "      <td>https://newsboard-r.s3.amazonaws.com/news_gen/...</td>\n",
       "      <td>Change of Heart</td>\n",
       "      <td>David Steinberg’s Sunday puzzle hits us in a s...</td>\n",
       "      <td>https://newsboard-r.s3.amazonaws.com/news_gen/...</td>\n",
       "      <td>...</td>\n",
       "      <td>https://newsboard-r.s3.amazonaws.com/news_gen/...</td>\n",
       "      <td>My Family Never Asked to Be ‘Liberated’</td>\n",
       "      <td>But war came to them.</td>\n",
       "      <td>https://newsboard-r.s3.amazonaws.com/news_gen/...</td>\n",
       "      <td>It’s Stew Time (Unless It’s Not)</td>\n",
       "      <td>A new recipe for eintopf from Yewande Komolafe...</td>\n",
       "      <td>https://newsboard-r.s3.amazonaws.com/news_gen/...</td>\n",
       "      <td>Everything Looks Different Now</td>\n",
       "      <td>Crisis and fashion collide at Moschino and Prada.</td>\n",
       "      <td>https://newsboard-r.s3.amazonaws.com/news_gen/...</td>\n",
       "    </tr>\n",
       "    <tr>\n",
       "      <th>2</th>\n",
       "      <td>ruofan.chen19@gmail.com</td>\n",
       "      <td>How Ukrainians View This Perilous Moment</td>\n",
       "      <td>A Russian invasion of the former Soviet state ...</td>\n",
       "      <td>https://newsboard-r.s3.amazonaws.com/news_gen/...</td>\n",
       "      <td>Was It Me? Or My Teeth?</td>\n",
       "      <td>In America, a smile is like a résumé. I was af...</td>\n",
       "      <td>https://newsboard-r.s3.amazonaws.com/news_gen/...</td>\n",
       "      <td>Change of Heart</td>\n",
       "      <td>David Steinberg’s Sunday puzzle hits us in a s...</td>\n",
       "      <td>https://newsboard-r.s3.amazonaws.com/news_gen/...</td>\n",
       "      <td>...</td>\n",
       "      <td>https://newsboard-r.s3.amazonaws.com/news_gen/...</td>\n",
       "      <td>My Family Never Asked to Be ‘Liberated’</td>\n",
       "      <td>But war came to them.</td>\n",
       "      <td>https://newsboard-r.s3.amazonaws.com/news_gen/...</td>\n",
       "      <td>It’s Stew Time (Unless It’s Not)</td>\n",
       "      <td>A new recipe for eintopf from Yewande Komolafe...</td>\n",
       "      <td>https://newsboard-r.s3.amazonaws.com/news_gen/...</td>\n",
       "      <td>Everything Looks Different Now</td>\n",
       "      <td>Crisis and fashion collide at Moschino and Prada.</td>\n",
       "      <td>https://newsboard-r.s3.amazonaws.com/news_gen/...</td>\n",
       "    </tr>\n",
       "  </tbody>\n",
       "</table>\n",
       "<p>3 rows × 31 columns</p>\n",
       "</div>"
      ],
      "text/plain": [
       "                     email                               news1 title  \\\n",
       "0      wsc961201@gmail.com  How Ukrainians View This Perilous Moment   \n",
       "1    jun.jin.crf@gmail.com  How Ukrainians View This Perilous Moment   \n",
       "2  ruofan.chen19@gmail.com  How Ukrainians View This Perilous Moment   \n",
       "\n",
       "                                      news1 abstract  \\\n",
       "0  A Russian invasion of the former Soviet state ...   \n",
       "1  A Russian invasion of the former Soviet state ...   \n",
       "2  A Russian invasion of the former Soviet state ...   \n",
       "\n",
       "                                           news1 url              news2 title  \\\n",
       "0  https://newsboard-r.s3.amazonaws.com/news_gen/...  Was It Me? Or My Teeth?   \n",
       "1  https://newsboard-r.s3.amazonaws.com/news_gen/...  Was It Me? Or My Teeth?   \n",
       "2  https://newsboard-r.s3.amazonaws.com/news_gen/...  Was It Me? Or My Teeth?   \n",
       "\n",
       "                                      news2 abstract  \\\n",
       "0  In America, a smile is like a résumé. I was af...   \n",
       "1  In America, a smile is like a résumé. I was af...   \n",
       "2  In America, a smile is like a résumé. I was af...   \n",
       "\n",
       "                                           news2 url      news3 title  \\\n",
       "0  https://newsboard-r.s3.amazonaws.com/news_gen/...  Change of Heart   \n",
       "1  https://newsboard-r.s3.amazonaws.com/news_gen/...  Change of Heart   \n",
       "2  https://newsboard-r.s3.amazonaws.com/news_gen/...  Change of Heart   \n",
       "\n",
       "                                      news3 abstract  \\\n",
       "0  David Steinberg’s Sunday puzzle hits us in a s...   \n",
       "1  David Steinberg’s Sunday puzzle hits us in a s...   \n",
       "2  David Steinberg’s Sunday puzzle hits us in a s...   \n",
       "\n",
       "                                           news3 url  ...  \\\n",
       "0  https://newsboard-r.s3.amazonaws.com/news_gen/...  ...   \n",
       "1  https://newsboard-r.s3.amazonaws.com/news_gen/...  ...   \n",
       "2  https://newsboard-r.s3.amazonaws.com/news_gen/...  ...   \n",
       "\n",
       "                                           news7 url  \\\n",
       "0  https://newsboard-r.s3.amazonaws.com/news_gen/...   \n",
       "1  https://newsboard-r.s3.amazonaws.com/news_gen/...   \n",
       "2  https://newsboard-r.s3.amazonaws.com/news_gen/...   \n",
       "\n",
       "                               news8 title          news8 abstract  \\\n",
       "0  My Family Never Asked to Be ‘Liberated’  But war came to them.    \n",
       "1  My Family Never Asked to Be ‘Liberated’  But war came to them.    \n",
       "2  My Family Never Asked to Be ‘Liberated’  But war came to them.    \n",
       "\n",
       "                                           news8 url  \\\n",
       "0  https://newsboard-r.s3.amazonaws.com/news_gen/...   \n",
       "1  https://newsboard-r.s3.amazonaws.com/news_gen/...   \n",
       "2  https://newsboard-r.s3.amazonaws.com/news_gen/...   \n",
       "\n",
       "                        news9 title  \\\n",
       "0  It’s Stew Time (Unless It’s Not)   \n",
       "1  It’s Stew Time (Unless It’s Not)   \n",
       "2  It’s Stew Time (Unless It’s Not)   \n",
       "\n",
       "                                      news9 abstract  \\\n",
       "0  A new recipe for eintopf from Yewande Komolafe...   \n",
       "1  A new recipe for eintopf from Yewande Komolafe...   \n",
       "2  A new recipe for eintopf from Yewande Komolafe...   \n",
       "\n",
       "                                           news9 url  \\\n",
       "0  https://newsboard-r.s3.amazonaws.com/news_gen/...   \n",
       "1  https://newsboard-r.s3.amazonaws.com/news_gen/...   \n",
       "2  https://newsboard-r.s3.amazonaws.com/news_gen/...   \n",
       "\n",
       "                     news10 title  \\\n",
       "0  Everything Looks Different Now   \n",
       "1  Everything Looks Different Now   \n",
       "2  Everything Looks Different Now   \n",
       "\n",
       "                                     news10 abstract  \\\n",
       "0  Crisis and fashion collide at Moschino and Prada.   \n",
       "1  Crisis and fashion collide at Moschino and Prada.   \n",
       "2  Crisis and fashion collide at Moschino and Prada.   \n",
       "\n",
       "                                          news10 url  \n",
       "0  https://newsboard-r.s3.amazonaws.com/news_gen/...  \n",
       "1  https://newsboard-r.s3.amazonaws.com/news_gen/...  \n",
       "2  https://newsboard-r.s3.amazonaws.com/news_gen/...  \n",
       "\n",
       "[3 rows x 31 columns]"
      ]
     },
     "execution_count": 31,
     "metadata": {},
     "output_type": "execute_result"
    }
   ],
   "source": [
    "df"
   ]
  },
  {
   "cell_type": "code",
   "execution_count": 32,
   "id": "9cbba5bf",
   "metadata": {},
   "outputs": [],
   "source": [
    "# save into csv\n",
    "df.to_csv('user_news.csv',index=False)"
   ]
  },
  {
   "cell_type": "markdown",
   "id": "ef53030f",
   "metadata": {},
   "source": [
    "send email"
   ]
  },
  {
   "cell_type": "code",
   "execution_count": 38,
   "id": "cd534108",
   "metadata": {},
   "outputs": [],
   "source": [
    "from string import Template\n",
    "from email.mime.multipart import MIMEMultipart\n",
    "from email.mime.text import MIMEText\n",
    "import smtplib\n",
    "import csv\n",
    "import codecs"
   ]
  },
  {
   "cell_type": "code",
   "execution_count": 39,
   "id": "1cdc8003",
   "metadata": {},
   "outputs": [
    {
     "name": "stdout",
     "output_type": "stream",
     "text": [
      "Good morning, here's today's news:\n",
      "\n",
      "News 1\n",
      "title: How Ukrainians View This Perilous Moment\n",
      "abstract: A Russian invasion of the former Soviet state may be imminent. How will Ukraine’s citizens respond if it happens?\n",
      "url: https://newsboard-r.s3.amazonaws.com/news_gen/0ca0fb5a-1307-5bfe-97f2-a3c7ce8c6a05.html  \n",
      "\n",
      "News 2\n",
      "title: Was It Me? Or My Teeth?\n",
      "abstract: In America, a smile is like a résumé. I was afraid mine wasn’t closing the deal.\n",
      "url: https://newsboard-r.s3.amazonaws.com/news_gen/4b7f30b3-2715-5454-92ae-d0119da1fe92.html\n",
      "\n",
      "News 3\n",
      "title: Change of Heart\n",
      "abstract: David Steinberg’s Sunday puzzle hits us in a sweet spot.\n",
      "url: https://newsboard-r.s3.amazonaws.com/news_gen/e7dbad07-a4ee-5bb4-a04a-fd7edf8d028f.html\n",
      "\n",
      "News 4\n",
      "title: ‘We’ve Never Been Smuggled Before’\n",
      "abstract: After the U.S. withdrawal and with their country’s economy collapsing, countless Afghans are trying to escape. Who does the West consider worthy of saving?\n",
      "url: https://newsboard-r.s3.amazonaws.com/news_gen/e62ddf2e-1ee0-5b58-bf2d-db3eea39ff9a.html\n",
      "\n",
      "News 5\n",
      "title: Can MDMA Save a Marriage?\n",
      "abstract: For some couples on the brink of divorce, taking the illegal psychedelic drug was a last resort — but it ended up being the only thing that worked.\n",
      "url: https://newsboard-r.s3.amazonaws.com/news_gen/7593e38e-0558-5e91-adc8-d018f984db2b.html\n",
      "\n",
      "News 6\n",
      "title: Why Claiming British Identity Is Complicated\n",
      "abstract: A scandal in 2014, known as the Trojan Horse affair, exposed what it’s like living in Britain as a British Pakistani.\n",
      "url: https://newsboard-r.s3.amazonaws.com/news_gen/134c058f-9a2c-5ad3-b427-53328fa5e1ca.html\n",
      "\n",
      "News 7\n",
      "title: How Being Inclusive Can Be Insulting\n",
      "abstract: We shouldn’t pretend that a piece of music by a Black artist is classical if it isn’t.\n",
      "url: https://newsboard-r.s3.amazonaws.com/news_gen/8dfc2a7c-4ebb-5ecb-a8e0-c2c6d5ad3f03.html\n",
      "\n",
      "News 8\n",
      "title: My Family Never Asked to Be ‘Liberated’\n",
      "abstract: But war came to them. \n",
      "url: https://newsboard-r.s3.amazonaws.com/news_gen/c8a1e88a-fe84-5932-a897-9cb329b0a649.html\n",
      "\n",
      "News 9\n",
      "title: It’s Stew Time (Unless It’s Not)\n",
      "abstract: A new recipe for eintopf from Yewande Komolafe, and more recipes for both cold and warmer weather.\n",
      "url: https://newsboard-r.s3.amazonaws.com/news_gen/7a5b73d6-b0f8-51be-8589-29e81866ca9c.html\n",
      "\n",
      "News 10\n",
      "title: Everything Looks Different Now\n",
      "abstract: Crisis and fashion collide at Moschino and Prada.\n",
      "url: https://newsboard-r.s3.amazonaws.com/news_gen/f74bf2ce-39a3-5ffa-9359-709dc119bb3c.html\n",
      "\n",
      "we appreciate your valuable feedback: \n",
      "https://us14.list-manage.com/survey?u=bb2821903e5482647405b90cf&id=fa1c743c59\n",
      "\n",
      "Thank you and have a great day!\n",
      "Good morning, here's today's news:\n",
      "\n",
      "News 1\n",
      "title: How Ukrainians View This Perilous Moment\n",
      "abstract: A Russian invasion of the former Soviet state may be imminent. How will Ukraine’s citizens respond if it happens?\n",
      "url: https://newsboard-r.s3.amazonaws.com/news_gen/0ca0fb5a-1307-5bfe-97f2-a3c7ce8c6a05.html  \n",
      "\n",
      "News 2\n",
      "title: Was It Me? Or My Teeth?\n",
      "abstract: In America, a smile is like a résumé. I was afraid mine wasn’t closing the deal.\n",
      "url: https://newsboard-r.s3.amazonaws.com/news_gen/4b7f30b3-2715-5454-92ae-d0119da1fe92.html\n",
      "\n",
      "News 3\n",
      "title: Change of Heart\n",
      "abstract: David Steinberg’s Sunday puzzle hits us in a sweet spot.\n",
      "url: https://newsboard-r.s3.amazonaws.com/news_gen/e7dbad07-a4ee-5bb4-a04a-fd7edf8d028f.html\n",
      "\n",
      "News 4\n",
      "title: ‘We’ve Never Been Smuggled Before’\n",
      "abstract: After the U.S. withdrawal and with their country’s economy collapsing, countless Afghans are trying to escape. Who does the West consider worthy of saving?\n",
      "url: https://newsboard-r.s3.amazonaws.com/news_gen/e62ddf2e-1ee0-5b58-bf2d-db3eea39ff9a.html\n",
      "\n",
      "News 5\n",
      "title: Can MDMA Save a Marriage?\n",
      "abstract: For some couples on the brink of divorce, taking the illegal psychedelic drug was a last resort — but it ended up being the only thing that worked.\n",
      "url: https://newsboard-r.s3.amazonaws.com/news_gen/7593e38e-0558-5e91-adc8-d018f984db2b.html\n",
      "\n",
      "News 6\n",
      "title: Why Claiming British Identity Is Complicated\n",
      "abstract: A scandal in 2014, known as the Trojan Horse affair, exposed what it’s like living in Britain as a British Pakistani.\n",
      "url: https://newsboard-r.s3.amazonaws.com/news_gen/134c058f-9a2c-5ad3-b427-53328fa5e1ca.html\n",
      "\n",
      "News 7\n",
      "title: How Being Inclusive Can Be Insulting\n",
      "abstract: We shouldn’t pretend that a piece of music by a Black artist is classical if it isn’t.\n",
      "url: https://newsboard-r.s3.amazonaws.com/news_gen/8dfc2a7c-4ebb-5ecb-a8e0-c2c6d5ad3f03.html\n",
      "\n",
      "News 8\n",
      "title: My Family Never Asked to Be ‘Liberated’\n",
      "abstract: But war came to them. \n",
      "url: https://newsboard-r.s3.amazonaws.com/news_gen/c8a1e88a-fe84-5932-a897-9cb329b0a649.html\n",
      "\n",
      "News 9\n",
      "title: It’s Stew Time (Unless It’s Not)\n",
      "abstract: A new recipe for eintopf from Yewande Komolafe, and more recipes for both cold and warmer weather.\n",
      "url: https://newsboard-r.s3.amazonaws.com/news_gen/7a5b73d6-b0f8-51be-8589-29e81866ca9c.html\n",
      "\n",
      "News 10\n",
      "title: Everything Looks Different Now\n",
      "abstract: Crisis and fashion collide at Moschino and Prada.\n",
      "url: https://newsboard-r.s3.amazonaws.com/news_gen/f74bf2ce-39a3-5ffa-9359-709dc119bb3c.html\n",
      "\n",
      "we appreciate your valuable feedback: \n",
      "https://us14.list-manage.com/survey?u=bb2821903e5482647405b90cf&id=fa1c743c59\n",
      "\n",
      "Thank you and have a great day!\n",
      "Good morning, here's today's news:\n",
      "\n",
      "News 1\n",
      "title: How Ukrainians View This Perilous Moment\n",
      "abstract: A Russian invasion of the former Soviet state may be imminent. How will Ukraine’s citizens respond if it happens?\n",
      "url: https://newsboard-r.s3.amazonaws.com/news_gen/0ca0fb5a-1307-5bfe-97f2-a3c7ce8c6a05.html  \n",
      "\n",
      "News 2\n",
      "title: Was It Me? Or My Teeth?\n",
      "abstract: In America, a smile is like a résumé. I was afraid mine wasn’t closing the deal.\n",
      "url: https://newsboard-r.s3.amazonaws.com/news_gen/4b7f30b3-2715-5454-92ae-d0119da1fe92.html\n",
      "\n",
      "News 3\n",
      "title: Change of Heart\n",
      "abstract: David Steinberg’s Sunday puzzle hits us in a sweet spot.\n",
      "url: https://newsboard-r.s3.amazonaws.com/news_gen/e7dbad07-a4ee-5bb4-a04a-fd7edf8d028f.html\n",
      "\n",
      "News 4\n",
      "title: ‘We’ve Never Been Smuggled Before’\n",
      "abstract: After the U.S. withdrawal and with their country’s economy collapsing, countless Afghans are trying to escape. Who does the West consider worthy of saving?\n",
      "url: https://newsboard-r.s3.amazonaws.com/news_gen/e62ddf2e-1ee0-5b58-bf2d-db3eea39ff9a.html\n",
      "\n",
      "News 5\n",
      "title: Can MDMA Save a Marriage?\n",
      "abstract: For some couples on the brink of divorce, taking the illegal psychedelic drug was a last resort — but it ended up being the only thing that worked.\n",
      "url: https://newsboard-r.s3.amazonaws.com/news_gen/7593e38e-0558-5e91-adc8-d018f984db2b.html\n",
      "\n",
      "News 6\n",
      "title: Why Claiming British Identity Is Complicated\n",
      "abstract: A scandal in 2014, known as the Trojan Horse affair, exposed what it’s like living in Britain as a British Pakistani.\n",
      "url: https://newsboard-r.s3.amazonaws.com/news_gen/134c058f-9a2c-5ad3-b427-53328fa5e1ca.html\n",
      "\n",
      "News 7\n",
      "title: How Being Inclusive Can Be Insulting\n",
      "abstract: We shouldn’t pretend that a piece of music by a Black artist is classical if it isn’t.\n",
      "url: https://newsboard-r.s3.amazonaws.com/news_gen/8dfc2a7c-4ebb-5ecb-a8e0-c2c6d5ad3f03.html\n",
      "\n",
      "News 8\n",
      "title: My Family Never Asked to Be ‘Liberated’\n",
      "abstract: But war came to them. \n",
      "url: https://newsboard-r.s3.amazonaws.com/news_gen/c8a1e88a-fe84-5932-a897-9cb329b0a649.html\n",
      "\n",
      "News 9\n",
      "title: It’s Stew Time (Unless It’s Not)\n",
      "abstract: A new recipe for eintopf from Yewande Komolafe, and more recipes for both cold and warmer weather.\n",
      "url: https://newsboard-r.s3.amazonaws.com/news_gen/7a5b73d6-b0f8-51be-8589-29e81866ca9c.html\n",
      "\n",
      "News 10\n",
      "title: Everything Looks Different Now\n",
      "abstract: Crisis and fashion collide at Moschino and Prada.\n",
      "url: https://newsboard-r.s3.amazonaws.com/news_gen/f74bf2ce-39a3-5ffa-9359-709dc119bb3c.html\n",
      "\n",
      "we appreciate your valuable feedback: \n",
      "https://us14.list-manage.com/survey?u=bb2821903e5482647405b90cf&id=fa1c743c59\n",
      "\n",
      "Thank you and have a great day!\n"
     ]
    }
   ],
   "source": [
    "def read_template(filename):\n",
    "    with open(filename, 'r', encoding='utf-8') as template_file:\n",
    "        template_file_content = template_file.read()\n",
    "    return Template(template_file_content)\n",
    "\n",
    "\n",
    "def main():\n",
    "    message_template = read_template('template.txt')\n",
    "    sender = \"newsboardnyt@163.com\"\n",
    "    password = \"*****************\"\n",
    "    \n",
    "    # set up the SMTP server\n",
    "    smtp = smtplib.SMTP_SSL(\"smtp.163.com\", 994)\n",
    "    smtp.login(sender, password)\n",
    "    \n",
    "    with open('user_news.csv', 'rb') as csv_file:\n",
    "        csv_reader = csv.reader(codecs.iterdecode(csv_file, 'utf-8'),delimiter = ',')\n",
    "        # the below statement will skip the first row\n",
    "        next(csv_reader)\n",
    "        for lines in csv_reader:\n",
    "            msg = MIMEMultipart() # create a message\n",
    "            # add in the actual person name to the message template\n",
    "            message = message_template.substitute(news1_title=lines[1],news1_abstract=lines[2],news1_url=lines[3],news2_title=lines[4],news2_abstract=lines[5],news2_url=lines[6],\n",
    "                                                  news3_title=lines[7],news3_abstract=lines[8],news3_url=lines[9],news4_title=lines[10],news4_abstract=lines[11],news4_url=lines[12],\n",
    "                                                  news5_title=lines[13],news5_abstract=lines[14],news5_url=lines[15],news6_title=lines[16],news6_abstract=lines[17],news6_url=lines[18],\n",
    "                                                  news7_title=lines[19],news7_abstract=lines[20],news7_url=lines[21],news8_title=lines[22],news8_abstract=lines[23],news8_url=lines[24],\n",
    "                                                  news9_title=lines[25],news9_abstract=lines[26],news9_url=lines[27],news10_title=lines[28],news10_abstract=lines[29],news10_url=lines[30])\n",
    "\n",
    "# setup the parameters of the message\n",
    "            msg['From']=sender\n",
    "            msg['To']=lines[0]\n",
    "            msg['Subject']='newsletter'\n",
    "# add in the message body\n",
    "            msg.attach(MIMEText(message, 'plain'))\n",
    "# send the message via the server set up earlier.\n",
    "            smtp.send_message(msg)\n",
    "            del msg\n",
    "        \n",
    "        \n",
    "\n",
    "# Terminate the SMTP session and close the connection\n",
    "    smtp.quit()\n",
    "if __name__ == '__main__':\n",
    "    main()"
   ]
  },
  {
   "cell_type": "code",
   "execution_count": null,
   "id": "6437f014",
   "metadata": {},
   "outputs": [],
   "source": []
  }
 ],
 "metadata": {
  "kernelspec": {
   "display_name": "Python 3 (ipykernel)",
   "language": "python",
   "name": "python3"
  },
  "language_info": {
   "codemirror_mode": {
    "name": "ipython",
    "version": 3
   },
   "file_extension": ".py",
   "mimetype": "text/x-python",
   "name": "python",
   "nbconvert_exporter": "python",
   "pygments_lexer": "ipython3",
   "version": "3.9.10"
  }
 },
 "nbformat": 4,
 "nbformat_minor": 5
}
